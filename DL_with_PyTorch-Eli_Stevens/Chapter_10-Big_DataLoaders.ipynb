{
  "nbformat": 4,
  "nbformat_minor": 0,
  "metadata": {
    "colab": {
      "name": "Chapter_10-Big_DataLoaders.ipynb",
      "provenance": [],
      "collapsed_sections": [
        "jMo5GwOYVgLG",
        "WPbvstZHXlt5",
        "XAEBA26CmMDk",
        "6BjjsGgqNixy",
        "OobBXeaSU4zx",
        "7vUN4-S2Sa5r"
      ]
    },
    "kernelspec": {
      "name": "python3",
      "display_name": "Python 3"
    },
    "language_info": {
      "name": "python"
    }
  },
  "cells": [
    {
      "cell_type": "code",
      "execution_count": 1,
      "metadata": {
        "id": "43EfHIIaHe1Z",
        "colab": {
          "base_uri": "https://localhost:8080/",
          "height": 53
        },
        "outputId": "1e2714b8-eb81-4734-c3f3-07a938d78b02"
      },
      "outputs": [
        {
          "output_type": "stream",
          "name": "stdout",
          "text": [
            "/content/drive/Shareddrives/data_drive/DL_with_PyTorch-Eli_Stevens\n"
          ]
        },
        {
          "output_type": "execute_result",
          "data": {
            "text/plain": [
              "'/content/drive/Shareddrives/data_drive/DL_with_PyTorch-Eli_Stevens'"
            ],
            "application/vnd.google.colaboratory.intrinsic+json": {
              "type": "string"
            }
          },
          "metadata": {},
          "execution_count": 1
        }
      ],
      "source": [
        "%cd /content/drive/Shareddrives/data_drive/DL_with_PyTorch-Eli_Stevens\n",
        "%pwd"
      ]
    },
    {
      "cell_type": "markdown",
      "source": [
        "## First look at the data"
      ],
      "metadata": {
        "id": "jMo5GwOYVgLG"
      }
    },
    {
      "cell_type": "code",
      "source": [
        "import pandas as pd\n",
        "import numpy as np\n",
        "\n",
        "\n",
        "cands_df = pd.read_csv('./data/candidates.csv')\n",
        "cands_df.shape"
      ],
      "metadata": {
        "id": "968dKRmuID5n",
        "colab": {
          "base_uri": "https://localhost:8080/"
        },
        "outputId": "288953ed-731e-4793-d6be-3aefb857d113"
      },
      "execution_count": 2,
      "outputs": [
        {
          "output_type": "execute_result",
          "data": {
            "text/plain": [
              "(551065, 5)"
            ]
          },
          "metadata": {},
          "execution_count": 2
        }
      ]
    },
    {
      "cell_type": "code",
      "source": [
        "cands_df.head()"
      ],
      "metadata": {
        "id": "4Gu0SZ2HID71",
        "colab": {
          "base_uri": "https://localhost:8080/",
          "height": 0
        },
        "outputId": "a554cc23-3b88-461c-a52c-c795fe747520"
      },
      "execution_count": 3,
      "outputs": [
        {
          "output_type": "execute_result",
          "data": {
            "text/plain": [
              "                                           seriesuid  coordX  coordY  coordZ  \\\n",
              "0  1.3.6.1.4.1.14519.5.2.1.6279.6001.100225287222...  -56.08  -67.85 -311.92   \n",
              "1  1.3.6.1.4.1.14519.5.2.1.6279.6001.100225287222...   53.21 -244.41 -245.17   \n",
              "2  1.3.6.1.4.1.14519.5.2.1.6279.6001.100225287222...  103.66 -121.80 -286.62   \n",
              "3  1.3.6.1.4.1.14519.5.2.1.6279.6001.100225287222...  -33.66  -72.75 -308.41   \n",
              "4  1.3.6.1.4.1.14519.5.2.1.6279.6001.100225287222...  -32.25  -85.36 -362.51   \n",
              "\n",
              "   class  \n",
              "0      0  \n",
              "1      0  \n",
              "2      0  \n",
              "3      0  \n",
              "4      0  "
            ],
            "text/html": [
              "\n",
              "  <div id=\"df-3a650229-dba9-4858-95bd-0925f40af3f6\">\n",
              "    <div class=\"colab-df-container\">\n",
              "      <div>\n",
              "<style scoped>\n",
              "    .dataframe tbody tr th:only-of-type {\n",
              "        vertical-align: middle;\n",
              "    }\n",
              "\n",
              "    .dataframe tbody tr th {\n",
              "        vertical-align: top;\n",
              "    }\n",
              "\n",
              "    .dataframe thead th {\n",
              "        text-align: right;\n",
              "    }\n",
              "</style>\n",
              "<table border=\"1\" class=\"dataframe\">\n",
              "  <thead>\n",
              "    <tr style=\"text-align: right;\">\n",
              "      <th></th>\n",
              "      <th>seriesuid</th>\n",
              "      <th>coordX</th>\n",
              "      <th>coordY</th>\n",
              "      <th>coordZ</th>\n",
              "      <th>class</th>\n",
              "    </tr>\n",
              "  </thead>\n",
              "  <tbody>\n",
              "    <tr>\n",
              "      <th>0</th>\n",
              "      <td>1.3.6.1.4.1.14519.5.2.1.6279.6001.100225287222...</td>\n",
              "      <td>-56.08</td>\n",
              "      <td>-67.85</td>\n",
              "      <td>-311.92</td>\n",
              "      <td>0</td>\n",
              "    </tr>\n",
              "    <tr>\n",
              "      <th>1</th>\n",
              "      <td>1.3.6.1.4.1.14519.5.2.1.6279.6001.100225287222...</td>\n",
              "      <td>53.21</td>\n",
              "      <td>-244.41</td>\n",
              "      <td>-245.17</td>\n",
              "      <td>0</td>\n",
              "    </tr>\n",
              "    <tr>\n",
              "      <th>2</th>\n",
              "      <td>1.3.6.1.4.1.14519.5.2.1.6279.6001.100225287222...</td>\n",
              "      <td>103.66</td>\n",
              "      <td>-121.80</td>\n",
              "      <td>-286.62</td>\n",
              "      <td>0</td>\n",
              "    </tr>\n",
              "    <tr>\n",
              "      <th>3</th>\n",
              "      <td>1.3.6.1.4.1.14519.5.2.1.6279.6001.100225287222...</td>\n",
              "      <td>-33.66</td>\n",
              "      <td>-72.75</td>\n",
              "      <td>-308.41</td>\n",
              "      <td>0</td>\n",
              "    </tr>\n",
              "    <tr>\n",
              "      <th>4</th>\n",
              "      <td>1.3.6.1.4.1.14519.5.2.1.6279.6001.100225287222...</td>\n",
              "      <td>-32.25</td>\n",
              "      <td>-85.36</td>\n",
              "      <td>-362.51</td>\n",
              "      <td>0</td>\n",
              "    </tr>\n",
              "  </tbody>\n",
              "</table>\n",
              "</div>\n",
              "      <button class=\"colab-df-convert\" onclick=\"convertToInteractive('df-3a650229-dba9-4858-95bd-0925f40af3f6')\"\n",
              "              title=\"Convert this dataframe to an interactive table.\"\n",
              "              style=\"display:none;\">\n",
              "        \n",
              "  <svg xmlns=\"http://www.w3.org/2000/svg\" height=\"24px\"viewBox=\"0 0 24 24\"\n",
              "       width=\"24px\">\n",
              "    <path d=\"M0 0h24v24H0V0z\" fill=\"none\"/>\n",
              "    <path d=\"M18.56 5.44l.94 2.06.94-2.06 2.06-.94-2.06-.94-.94-2.06-.94 2.06-2.06.94zm-11 1L8.5 8.5l.94-2.06 2.06-.94-2.06-.94L8.5 2.5l-.94 2.06-2.06.94zm10 10l.94 2.06.94-2.06 2.06-.94-2.06-.94-.94-2.06-.94 2.06-2.06.94z\"/><path d=\"M17.41 7.96l-1.37-1.37c-.4-.4-.92-.59-1.43-.59-.52 0-1.04.2-1.43.59L10.3 9.45l-7.72 7.72c-.78.78-.78 2.05 0 2.83L4 21.41c.39.39.9.59 1.41.59.51 0 1.02-.2 1.41-.59l7.78-7.78 2.81-2.81c.8-.78.8-2.07 0-2.86zM5.41 20L4 18.59l7.72-7.72 1.47 1.35L5.41 20z\"/>\n",
              "  </svg>\n",
              "      </button>\n",
              "      \n",
              "  <style>\n",
              "    .colab-df-container {\n",
              "      display:flex;\n",
              "      flex-wrap:wrap;\n",
              "      gap: 12px;\n",
              "    }\n",
              "\n",
              "    .colab-df-convert {\n",
              "      background-color: #E8F0FE;\n",
              "      border: none;\n",
              "      border-radius: 50%;\n",
              "      cursor: pointer;\n",
              "      display: none;\n",
              "      fill: #1967D2;\n",
              "      height: 32px;\n",
              "      padding: 0 0 0 0;\n",
              "      width: 32px;\n",
              "    }\n",
              "\n",
              "    .colab-df-convert:hover {\n",
              "      background-color: #E2EBFA;\n",
              "      box-shadow: 0px 1px 2px rgba(60, 64, 67, 0.3), 0px 1px 3px 1px rgba(60, 64, 67, 0.15);\n",
              "      fill: #174EA6;\n",
              "    }\n",
              "\n",
              "    [theme=dark] .colab-df-convert {\n",
              "      background-color: #3B4455;\n",
              "      fill: #D2E3FC;\n",
              "    }\n",
              "\n",
              "    [theme=dark] .colab-df-convert:hover {\n",
              "      background-color: #434B5C;\n",
              "      box-shadow: 0px 1px 3px 1px rgba(0, 0, 0, 0.15);\n",
              "      filter: drop-shadow(0px 1px 2px rgba(0, 0, 0, 0.3));\n",
              "      fill: #FFFFFF;\n",
              "    }\n",
              "  </style>\n",
              "\n",
              "      <script>\n",
              "        const buttonEl =\n",
              "          document.querySelector('#df-3a650229-dba9-4858-95bd-0925f40af3f6 button.colab-df-convert');\n",
              "        buttonEl.style.display =\n",
              "          google.colab.kernel.accessAllowed ? 'block' : 'none';\n",
              "\n",
              "        async function convertToInteractive(key) {\n",
              "          const element = document.querySelector('#df-3a650229-dba9-4858-95bd-0925f40af3f6');\n",
              "          const dataTable =\n",
              "            await google.colab.kernel.invokeFunction('convertToInteractive',\n",
              "                                                     [key], {});\n",
              "          if (!dataTable) return;\n",
              "\n",
              "          const docLinkHtml = 'Like what you see? Visit the ' +\n",
              "            '<a target=\"_blank\" href=https://colab.research.google.com/notebooks/data_table.ipynb>data table notebook</a>'\n",
              "            + ' to learn more about interactive tables.';\n",
              "          element.innerHTML = '';\n",
              "          dataTable['output_type'] = 'display_data';\n",
              "          await google.colab.output.renderOutput(dataTable, element);\n",
              "          const docLink = document.createElement('div');\n",
              "          docLink.innerHTML = docLinkHtml;\n",
              "          element.appendChild(docLink);\n",
              "        }\n",
              "      </script>\n",
              "    </div>\n",
              "  </div>\n",
              "  "
            ]
          },
          "metadata": {},
          "execution_count": 3
        }
      ]
    },
    {
      "cell_type": "markdown",
      "source": [
        "Number of actual nodules"
      ],
      "metadata": {
        "id": "FX7gHlKaV3om"
      }
    },
    {
      "cell_type": "code",
      "source": [
        "cands_df[cands_df['class'] == 1].shape[0]"
      ],
      "metadata": {
        "id": "r55vIerNID-E",
        "colab": {
          "base_uri": "https://localhost:8080/"
        },
        "outputId": "938a8ce0-522f-4551-b490-a816f5d7b7f3"
      },
      "execution_count": 4,
      "outputs": [
        {
          "output_type": "execute_result",
          "data": {
            "text/plain": [
              "1351"
            ]
          },
          "metadata": {},
          "execution_count": 4
        }
      ]
    },
    {
      "cell_type": "code",
      "source": [
        "annts_df = pd.read_csv('./data/annotations.csv')\n",
        "annts_df.head()"
      ],
      "metadata": {
        "id": "8mRJ7rYlIEAT",
        "colab": {
          "base_uri": "https://localhost:8080/",
          "height": 0
        },
        "outputId": "0e54d5cf-78d9-4946-cc19-82e11761e163"
      },
      "execution_count": 5,
      "outputs": [
        {
          "output_type": "execute_result",
          "data": {
            "text/plain": [
              "                                           seriesuid      coordX      coordY  \\\n",
              "0  1.3.6.1.4.1.14519.5.2.1.6279.6001.100225287222... -128.699421 -175.319272   \n",
              "1  1.3.6.1.4.1.14519.5.2.1.6279.6001.100225287222...  103.783651 -211.925149   \n",
              "2  1.3.6.1.4.1.14519.5.2.1.6279.6001.100398138793...   69.639017 -140.944586   \n",
              "3  1.3.6.1.4.1.14519.5.2.1.6279.6001.100621383016...  -24.013824  192.102405   \n",
              "4  1.3.6.1.4.1.14519.5.2.1.6279.6001.100621383016...    2.441547  172.464881   \n",
              "\n",
              "       coordZ  diameter_mm  \n",
              "0 -298.387506     5.651471  \n",
              "1 -227.121250     4.224708  \n",
              "2  876.374496     5.786348  \n",
              "3 -391.081276     8.143262  \n",
              "4 -405.493732    18.545150  "
            ],
            "text/html": [
              "\n",
              "  <div id=\"df-efa8e15d-9271-44e0-bb1e-827f5f08752a\">\n",
              "    <div class=\"colab-df-container\">\n",
              "      <div>\n",
              "<style scoped>\n",
              "    .dataframe tbody tr th:only-of-type {\n",
              "        vertical-align: middle;\n",
              "    }\n",
              "\n",
              "    .dataframe tbody tr th {\n",
              "        vertical-align: top;\n",
              "    }\n",
              "\n",
              "    .dataframe thead th {\n",
              "        text-align: right;\n",
              "    }\n",
              "</style>\n",
              "<table border=\"1\" class=\"dataframe\">\n",
              "  <thead>\n",
              "    <tr style=\"text-align: right;\">\n",
              "      <th></th>\n",
              "      <th>seriesuid</th>\n",
              "      <th>coordX</th>\n",
              "      <th>coordY</th>\n",
              "      <th>coordZ</th>\n",
              "      <th>diameter_mm</th>\n",
              "    </tr>\n",
              "  </thead>\n",
              "  <tbody>\n",
              "    <tr>\n",
              "      <th>0</th>\n",
              "      <td>1.3.6.1.4.1.14519.5.2.1.6279.6001.100225287222...</td>\n",
              "      <td>-128.699421</td>\n",
              "      <td>-175.319272</td>\n",
              "      <td>-298.387506</td>\n",
              "      <td>5.651471</td>\n",
              "    </tr>\n",
              "    <tr>\n",
              "      <th>1</th>\n",
              "      <td>1.3.6.1.4.1.14519.5.2.1.6279.6001.100225287222...</td>\n",
              "      <td>103.783651</td>\n",
              "      <td>-211.925149</td>\n",
              "      <td>-227.121250</td>\n",
              "      <td>4.224708</td>\n",
              "    </tr>\n",
              "    <tr>\n",
              "      <th>2</th>\n",
              "      <td>1.3.6.1.4.1.14519.5.2.1.6279.6001.100398138793...</td>\n",
              "      <td>69.639017</td>\n",
              "      <td>-140.944586</td>\n",
              "      <td>876.374496</td>\n",
              "      <td>5.786348</td>\n",
              "    </tr>\n",
              "    <tr>\n",
              "      <th>3</th>\n",
              "      <td>1.3.6.1.4.1.14519.5.2.1.6279.6001.100621383016...</td>\n",
              "      <td>-24.013824</td>\n",
              "      <td>192.102405</td>\n",
              "      <td>-391.081276</td>\n",
              "      <td>8.143262</td>\n",
              "    </tr>\n",
              "    <tr>\n",
              "      <th>4</th>\n",
              "      <td>1.3.6.1.4.1.14519.5.2.1.6279.6001.100621383016...</td>\n",
              "      <td>2.441547</td>\n",
              "      <td>172.464881</td>\n",
              "      <td>-405.493732</td>\n",
              "      <td>18.545150</td>\n",
              "    </tr>\n",
              "  </tbody>\n",
              "</table>\n",
              "</div>\n",
              "      <button class=\"colab-df-convert\" onclick=\"convertToInteractive('df-efa8e15d-9271-44e0-bb1e-827f5f08752a')\"\n",
              "              title=\"Convert this dataframe to an interactive table.\"\n",
              "              style=\"display:none;\">\n",
              "        \n",
              "  <svg xmlns=\"http://www.w3.org/2000/svg\" height=\"24px\"viewBox=\"0 0 24 24\"\n",
              "       width=\"24px\">\n",
              "    <path d=\"M0 0h24v24H0V0z\" fill=\"none\"/>\n",
              "    <path d=\"M18.56 5.44l.94 2.06.94-2.06 2.06-.94-2.06-.94-.94-2.06-.94 2.06-2.06.94zm-11 1L8.5 8.5l.94-2.06 2.06-.94-2.06-.94L8.5 2.5l-.94 2.06-2.06.94zm10 10l.94 2.06.94-2.06 2.06-.94-2.06-.94-.94-2.06-.94 2.06-2.06.94z\"/><path d=\"M17.41 7.96l-1.37-1.37c-.4-.4-.92-.59-1.43-.59-.52 0-1.04.2-1.43.59L10.3 9.45l-7.72 7.72c-.78.78-.78 2.05 0 2.83L4 21.41c.39.39.9.59 1.41.59.51 0 1.02-.2 1.41-.59l7.78-7.78 2.81-2.81c.8-.78.8-2.07 0-2.86zM5.41 20L4 18.59l7.72-7.72 1.47 1.35L5.41 20z\"/>\n",
              "  </svg>\n",
              "      </button>\n",
              "      \n",
              "  <style>\n",
              "    .colab-df-container {\n",
              "      display:flex;\n",
              "      flex-wrap:wrap;\n",
              "      gap: 12px;\n",
              "    }\n",
              "\n",
              "    .colab-df-convert {\n",
              "      background-color: #E8F0FE;\n",
              "      border: none;\n",
              "      border-radius: 50%;\n",
              "      cursor: pointer;\n",
              "      display: none;\n",
              "      fill: #1967D2;\n",
              "      height: 32px;\n",
              "      padding: 0 0 0 0;\n",
              "      width: 32px;\n",
              "    }\n",
              "\n",
              "    .colab-df-convert:hover {\n",
              "      background-color: #E2EBFA;\n",
              "      box-shadow: 0px 1px 2px rgba(60, 64, 67, 0.3), 0px 1px 3px 1px rgba(60, 64, 67, 0.15);\n",
              "      fill: #174EA6;\n",
              "    }\n",
              "\n",
              "    [theme=dark] .colab-df-convert {\n",
              "      background-color: #3B4455;\n",
              "      fill: #D2E3FC;\n",
              "    }\n",
              "\n",
              "    [theme=dark] .colab-df-convert:hover {\n",
              "      background-color: #434B5C;\n",
              "      box-shadow: 0px 1px 3px 1px rgba(0, 0, 0, 0.15);\n",
              "      filter: drop-shadow(0px 1px 2px rgba(0, 0, 0, 0.3));\n",
              "      fill: #FFFFFF;\n",
              "    }\n",
              "  </style>\n",
              "\n",
              "      <script>\n",
              "        const buttonEl =\n",
              "          document.querySelector('#df-efa8e15d-9271-44e0-bb1e-827f5f08752a button.colab-df-convert');\n",
              "        buttonEl.style.display =\n",
              "          google.colab.kernel.accessAllowed ? 'block' : 'none';\n",
              "\n",
              "        async function convertToInteractive(key) {\n",
              "          const element = document.querySelector('#df-efa8e15d-9271-44e0-bb1e-827f5f08752a');\n",
              "          const dataTable =\n",
              "            await google.colab.kernel.invokeFunction('convertToInteractive',\n",
              "                                                     [key], {});\n",
              "          if (!dataTable) return;\n",
              "\n",
              "          const docLinkHtml = 'Like what you see? Visit the ' +\n",
              "            '<a target=\"_blank\" href=https://colab.research.google.com/notebooks/data_table.ipynb>data table notebook</a>'\n",
              "            + ' to learn more about interactive tables.';\n",
              "          element.innerHTML = '';\n",
              "          dataTable['output_type'] = 'display_data';\n",
              "          await google.colab.output.renderOutput(dataTable, element);\n",
              "          const docLink = document.createElement('div');\n",
              "          docLink.innerHTML = docLinkHtml;\n",
              "          element.appendChild(docLink);\n",
              "        }\n",
              "      </script>\n",
              "    </div>\n",
              "  </div>\n",
              "  "
            ]
          },
          "metadata": {},
          "execution_count": 5
        }
      ]
    },
    {
      "cell_type": "markdown",
      "source": [
        "Only 1186 rows - 1186 actual nodules + another informative column - `diameter_mm`\n",
        "\n"
      ],
      "metadata": {
        "id": "ok8dEy79Wfkz"
      }
    },
    {
      "cell_type": "code",
      "source": [
        "annts_df.shape[0]"
      ],
      "metadata": {
        "id": "SC0tkK-HIECb",
        "colab": {
          "base_uri": "https://localhost:8080/"
        },
        "outputId": "62cac86d-b0f1-4bfc-c75e-32ddbb96b9fb"
      },
      "execution_count": 6,
      "outputs": [
        {
          "output_type": "execute_result",
          "data": {
            "text/plain": [
              "1186"
            ]
          },
          "metadata": {},
          "execution_count": 6
        }
      ]
    },
    {
      "cell_type": "markdown",
      "source": [
        "## Unification"
      ],
      "metadata": {
        "id": "WPbvstZHXlt5"
      }
    },
    {
      "cell_type": "code",
      "source": [
        "from collections import namedtuple\n",
        "\n",
        "CandidateInfoTuple = namedtuple(\n",
        "    'CandidateInfoTuple',\n",
        "    'isNodule_bool, diameter_mm, series_uid, center_xyz',\n",
        ")"
      ],
      "metadata": {
        "id": "QMppMjaSXkyh"
      },
      "execution_count": 7,
      "outputs": []
    },
    {
      "cell_type": "code",
      "source": [
        "import functools\n",
        "import glob\n",
        "import os\n",
        "import csv\n",
        "\n",
        "\n",
        "@functools.lru_cache(1)\n",
        "def getCandidateInfoList(requireOnDisk_bool=True):\n",
        "    mhd_list = glob.glob('./data/unzipped/subset*/*.mhd')\n",
        "    presentOnDisk_set = {os.path.split(p)[-1][:-4] for p in mhd_list}\n",
        "\n",
        "    diameter_dict = {}\n",
        "    with open('./data/annotations.csv', \"r\") as f:\n",
        "        for row in list(csv.reader(f))[1:]:\n",
        "            series_uid = row[0]\n",
        "            annotationCenter_xyz = tuple([float(x) for x in row[1:4]])\n",
        "            annotationDiameter_mm = float(row[4])\n",
        "            diameter_dict.setdefault(series_uid, []).append(\n",
        "                (annotationCenter_xyz, annotationDiameter_mm)\n",
        "            )\n",
        "    \n",
        "    candidateInfo_list = []\n",
        "    with open('./data/candidates.csv', \"r\") as f:\n",
        "        for row in list(csv.reader(f))[1:]:\n",
        "            series_uid = row[0]\n",
        "            \n",
        "            if series_uid not in presentOnDisk_set and requireOnDisk_bool:\n",
        "                continue\n",
        "            \n",
        "            isNodule_bool = bool(int(row[4]))\n",
        "            candidateCenter_xyz = tuple([float(x) for x in row[1:4]])\n",
        "            \n",
        "            candidateDiameter_mm = 0.0\n",
        "            for annotation_tup in diameter_dict.get(series_uid, []):\n",
        "                annotationCenter_xyz, annotationDiameter_mm = annotation_tup\n",
        "                for i in range(3):\n",
        "                    delta_mm = abs(candidateCenter_xyz[i] - annotationCenter_xyz[i])\n",
        "                    if delta_mm > annotationDiameter_mm / 4:\n",
        "                        break\n",
        "                else:\n",
        "                    candidateDiameter_mm = annotationDiameter_mm\n",
        "                    break\n",
        "\n",
        "            candidateInfo_list.append(CandidateInfoTuple(\n",
        "                isNodule_bool,\n",
        "                candidateDiameter_mm,\n",
        "                series_uid,\n",
        "                candidateCenter_xyz,\n",
        "            ))\n",
        "\n",
        "    candidateInfo_list.sort(reverse=True)\n",
        "    return candidateInfo_list"
      ],
      "metadata": {
        "id": "55KtDF4LIEEh"
      },
      "execution_count": 8,
      "outputs": []
    },
    {
      "cell_type": "markdown",
      "source": [
        "## Reading data using right Data Format"
      ],
      "metadata": {
        "id": "XAEBA26CmMDk"
      }
    },
    {
      "cell_type": "code",
      "source": [
        "!pip install SimpleITK"
      ],
      "metadata": {
        "colab": {
          "base_uri": "https://localhost:8080/"
        },
        "id": "fvpIAIwBmY8P",
        "outputId": "706b44d1-9233-4979-81f4-4ce0c5380764"
      },
      "execution_count": 9,
      "outputs": [
        {
          "output_type": "stream",
          "name": "stdout",
          "text": [
            "Looking in indexes: https://pypi.org/simple, https://us-python.pkg.dev/colab-wheels/public/simple/\n",
            "Requirement already satisfied: SimpleITK in /usr/local/lib/python3.7/dist-packages (2.1.1.2)\n"
          ]
        }
      ]
    },
    {
      "cell_type": "code",
      "source": [
        "import SimpleITK as sitk\n",
        "\n",
        "class Ct:\n",
        "    def __init__(self, series_uid):\n",
        "        mhd_path = glob.glob(\n",
        "            './data/unzipped/subset*/{}.mhd'.format(series_uid)\n",
        "        )[0]\n",
        "\n",
        "        ct_mhd = sitk.ReadImage(mhd_path)\n",
        "        ct_a = np.array(sitk.GetArrayFromImage(ct_mhd), dtype=np.float32)\n",
        "        # replace all negatives that are less than -1000 to -1000\n",
        "        ct_a.clip(-1000, 1000, ct_a)\n",
        "\n",
        "        self.series_uid = series_uid\n",
        "        self.hu_a = ct_a"
      ],
      "metadata": {
        "id": "pR_7Awyga6q7"
      },
      "execution_count": 10,
      "outputs": []
    },
    {
      "cell_type": "markdown",
      "source": [
        "It’s important to know that our data uses the range of –1,000 to +1,000"
      ],
      "metadata": {
        "id": "4Bv5XN4jobd2"
      }
    },
    {
      "cell_type": "markdown",
      "source": [
        "## Convert IRC to XYZ"
      ],
      "metadata": {
        "id": "6BjjsGgqNixy"
      }
    },
    {
      "cell_type": "code",
      "source": [
        "import collections\n",
        "\n",
        "IrcTuple = collections.namedtuple('IrcTuple', ['index', 'row', 'col'])\n",
        "XyzTuple = collections.namedtuple('XyzTuple', ['x', 'y', 'z'])\n",
        "\n",
        "\n",
        "def irc2xyz(coord_irc, origin_xyz, vxSize_xyz, direction_a):\n",
        "    cri_a = np.array(coord_irc)[::-1]\n",
        "    origin_a = np.array(origin_xyz)\n",
        "    vxSize_a = np.array(vxSize_xyz)\n",
        "    coords_xyz = (direction_a @ (cri_a * vxSize_a)) + origin_a\n",
        "    return XyzTuple(*coords_xyz)\n",
        "\n",
        "\n",
        "def xyz2irc(coord_xyz, origin_xyz, vxSize_xyz, direction_a):\n",
        "    origin_a = np.array(origin_xyz)\n",
        "    vxSize_a = np.array(vxSize_xyz)\n",
        "    coord_a = np.array(coord_xyz)\n",
        "    cri_a = ((coord_a - origin_a) @ np.linalg.inv(direction_a)) / vxSize_a\n",
        "    cri_a = np.round(cri_a)\n",
        "    return IrcTuple(int(cri_a[2]), int(cri_a[1]), int(cri_a[0]))"
      ],
      "metadata": {
        "id": "iPucbOeAa6tF"
      },
      "execution_count": 11,
      "outputs": []
    },
    {
      "cell_type": "code",
      "source": [
        "import SimpleITK as sitk\n",
        "\n",
        "class Ct:\n",
        "    def __init__(self, series_uid):\n",
        "        mhd_path = glob.glob(\n",
        "            './data/unzipped/subset*/{}.mhd'.format(series_uid)\n",
        "        )[0]\n",
        "\n",
        "        ct_mhd = sitk.ReadImage(mhd_path)\n",
        "        ct_a = np.array(sitk.GetArrayFromImage(ct_mhd), dtype=np.float32)\n",
        "        # replace all negatives that are less than -1000 to -1000\n",
        "        ct_a.clip(-1000, 1000, ct_a)\n",
        "\n",
        "        self.series_uid = series_uid\n",
        "        self.hu_a = ct_a\n",
        "\n",
        "        self.origin_xyz = XyzTuple(*ct_mhd.GetOrigin())\n",
        "        self.vxSize_xyz = XyzTuple(*ct_mhd.GetSpacing())\n",
        "        self.direction_a = np.array(ct_mhd.GetDirection()).reshape(3, 3)\n",
        "    \n",
        "    def getRawCandidate(self, center_xyz, width_irc):\n",
        "        center_irc = xyz2irc(\n",
        "            center_xyz,\n",
        "            self.origin_xyz,\n",
        "            self.vxSize_xyz,\n",
        "            self.direction_a,\n",
        "        )\n",
        "\n",
        "        slice_list = []\n",
        "        for axis, center_val in enumerate(center_irc):\n",
        "            start_ndx = int(round(center_val - width_irc[axis]/2))\n",
        "            end_ndx = int(start_ndx + width_irc[axis])\n",
        "\n",
        "            assert center_val >= 0 and center_val < self.hu_a.shape[axis], repr([self.series_uid, center_xyz, self.origin_xyz, self.vxSize_xyz, center_irc, axis])\n",
        "\n",
        "            if start_ndx < 0:\n",
        "                start_ndx = 0\n",
        "                end_ndx = int(width_irc[axis])\n",
        "\n",
        "            if end_ndx > self.hu_a.shape[axis]:\n",
        "                end_ndx = self.hu_a.shape[axis]\n",
        "                start_ndx = int(self.hu_a.shape[axis] - width_irc[axis])\n",
        "\n",
        "            slice_list.append(slice(start_ndx, end_ndx))\n",
        "\n",
        "        ct_chunk = self.hu_a[tuple(slice_list)]\n",
        "\n",
        "        return ct_chunk, center_irc\n"
      ],
      "metadata": {
        "id": "DkC9DZs5ZaIT"
      },
      "execution_count": 12,
      "outputs": []
    },
    {
      "cell_type": "markdown",
      "source": [
        "## Cache and functions"
      ],
      "metadata": {
        "id": "OobBXeaSU4zx"
      }
    },
    {
      "cell_type": "code",
      "source": [
        "!pip install --quiet diskcache\n",
        "!pip install cassandra-driver"
      ],
      "metadata": {
        "colab": {
          "base_uri": "https://localhost:8080/"
        },
        "id": "g2-V3vIVVBFO",
        "outputId": "45b143e3-25db-4f26-fb66-695e3cad1494"
      },
      "execution_count": 13,
      "outputs": [
        {
          "output_type": "stream",
          "name": "stdout",
          "text": [
            "Looking in indexes: https://pypi.org/simple, https://us-python.pkg.dev/colab-wheels/public/simple/\n",
            "Requirement already satisfied: cassandra-driver in /usr/local/lib/python3.7/dist-packages (3.25.0)\n",
            "Requirement already satisfied: six>=1.9 in /usr/local/lib/python3.7/dist-packages (from cassandra-driver) (1.15.0)\n",
            "Requirement already satisfied: geomet<0.3,>=0.1 in /usr/local/lib/python3.7/dist-packages (from cassandra-driver) (0.2.1.post1)\n",
            "Requirement already satisfied: click in /usr/local/lib/python3.7/dist-packages (from geomet<0.3,>=0.1->cassandra-driver) (7.1.2)\n"
          ]
        }
      ]
    },
    {
      "cell_type": "code",
      "source": [
        "import gzip\n",
        "\n",
        "from cassandra.cqltypes import BytesType\n",
        "from diskcache import FanoutCache, Disk\n",
        "from diskcache.core import MODE_BINARY, io\n",
        "from io import BytesIO\n",
        "\n",
        "\n",
        "class GzipDisk(Disk):\n",
        "    def store(self, value, read, key=None):\n",
        "        \"\"\"\n",
        "        Override from base class diskcache.Disk.\n",
        "        Chunking is due to needing to work on pythons < 2.7.13:\n",
        "        - Issue #27130: In the \"zlib\" module, fix handling of large buffers\n",
        "          (typically 2 or 4 GiB).  Previously, inputs were limited to 2 GiB, and\n",
        "          compression and decompression operations did not properly handle results of\n",
        "          2 or 4 GiB.\n",
        "        :param value: value to convert\n",
        "        :param bool read: True when value is file-like object\n",
        "        :return: (size, mode, filename, value) tuple for Cache table\n",
        "        \"\"\"\n",
        "        # pylint: disable=unidiomatic-typecheck\n",
        "        if type(value) is BytesType:\n",
        "            if read:\n",
        "                value = value.read()\n",
        "                read = False\n",
        "\n",
        "            str_io = BytesIO()\n",
        "            gz_file = gzip.GzipFile(mode='wb', compresslevel=1, fileobj=str_io)\n",
        "\n",
        "            for offset in range(0, len(value), 2**30):\n",
        "                gz_file.write(value[offset:offset+2**30])\n",
        "            gz_file.close()\n",
        "\n",
        "            value = str_io.getvalue()\n",
        "\n",
        "        return super(GzipDisk, self).store(value, read)\n",
        "\n",
        "\n",
        "    def fetch(self, mode, filename, value, read):\n",
        "        \"\"\"\n",
        "        Override from base class diskcache.Disk.\n",
        "        Chunking is due to needing to work on pythons < 2.7.13:\n",
        "        - Issue #27130: In the \"zlib\" module, fix handling of large buffers\n",
        "          (typically 2 or 4 GiB).  Previously, inputs were limited to 2 GiB, and\n",
        "          compression and decompression operations did not properly handle results of\n",
        "          2 or 4 GiB.\n",
        "        :param int mode: value mode raw, binary, text, or pickle\n",
        "        :param str filename: filename of corresponding value\n",
        "        :param value: database value\n",
        "        :param bool read: when True, return an open file handle\n",
        "        :return: corresponding Python value\n",
        "        \"\"\"\n",
        "        value = super(GzipDisk, self).fetch(mode, filename, value, read)\n",
        "\n",
        "        if mode == MODE_BINARY:\n",
        "            str_io = BytesIO(value)\n",
        "            gz_file = gzip.GzipFile(mode='rb', fileobj=str_io)\n",
        "            read_csio = BytesIO()\n",
        "\n",
        "            while True:\n",
        "                uncompressed_data = gz_file.read(2**30)\n",
        "                if uncompressed_data:\n",
        "                    read_csio.write(uncompressed_data)\n",
        "                else:\n",
        "                    break\n",
        "\n",
        "            value = read_csio.getvalue()\n",
        "\n",
        "        return value\n",
        "\n",
        "def getCache(scope_str):\n",
        "    return FanoutCache('./data/unzipped/cache/' + scope_str,\n",
        "                       disk=GzipDisk,\n",
        "                       shards=64,\n",
        "                       timeout=1,\n",
        "                       size_limit=3e11,\n",
        "                       )"
      ],
      "metadata": {
        "id": "AYxzJPF3UrLC"
      },
      "execution_count": 14,
      "outputs": []
    },
    {
      "cell_type": "code",
      "source": [
        "raw_cache = getCache('')"
      ],
      "metadata": {
        "id": "rKWLfSpRV-uX"
      },
      "execution_count": 15,
      "outputs": []
    },
    {
      "cell_type": "code",
      "source": [
        "@functools.lru_cache(1, typed=True)\n",
        "def getCt(series_uid):\n",
        "    return Ct(series_uid)\n",
        "\n",
        "@raw_cache.memoize(typed=True)\n",
        "def getCtRawCandidate(series_uid, center_xyz, width_irc):\n",
        "    ct = getCt(series_uid)\n",
        "    ct_chunk, center_irc = ct.getRawCandidate(center_xyz, width_irc)\n",
        "    return ct_chunk, "
      ],
      "metadata": {
        "id": "HUo_gEczU6fi"
      },
      "execution_count": 16,
      "outputs": []
    },
    {
      "cell_type": "markdown",
      "source": [
        "## Torch Dataset"
      ],
      "metadata": {
        "id": "7vUN4-S2Sa5r"
      }
    },
    {
      "cell_type": "code",
      "source": [
        "import torch\n",
        "from torch.utils.data import Dataset\n",
        "import copy\n",
        "\n",
        "\n",
        "class LunaDataset(Dataset):\n",
        "    def __init__(\n",
        "        self,\n",
        "        val_stride=0,\n",
        "        isValSet_bool=None,\n",
        "        series_uid=None\n",
        "    ):\n",
        "        self.candidateInfo_list = copy.copy(getCandidateInfoList())\n",
        "\n",
        "        if series_uid:\n",
        "            self.candidateInfo_list = [\n",
        "                x for x in self.candidateInfo_list if x.series_uid == series_uid\n",
        "            ]\n",
        "\n",
        "        if isValSet_bool:\n",
        "            assert val_stride > 0, val_stride\n",
        "            self.candidateInfo_list = self.candidateInfo_list[::val_stride]\n",
        "            assert self.candidateInfo_list\n",
        "        elif val_stride > 0:\n",
        "            del self.candidateInfo_list[::val_stride]\n",
        "            assert self.candidateInfo_list\n",
        "\n",
        "\n",
        "    def __len__(self):\n",
        "        return len(self.candidateInfo_list)\n",
        "\n",
        "    def __getitem__(self, ndx):\n",
        "        candidateInfo_tup = self.candidateInfo_list[ndx]\n",
        "        width_irc = (32, 48, 48)\n",
        "\n",
        "        candidate_a, center_irc = getCtRawCandidate(\n",
        "            candidateInfo_tup.series_uid,\n",
        "            candidateInfo_tup.center_xyz,\n",
        "            width_irc,\n",
        "        )\n",
        "\n",
        "        candidate_t = torch.from_numpy(candidate_a)\n",
        "        candidate_t = candidate_t.to(torch.float32)\n",
        "        candidate_t = candidate_t.unsqueeze(0)\n",
        "\n",
        "        pos_t = torch.tensor([\n",
        "                not candidateInfo_tup.isNodule_bool,\n",
        "                candidateInfo_tup.isNodule_bool\n",
        "            ],\n",
        "            dtype=torch.long,\n",
        "        )\n",
        "\n",
        "        return (\n",
        "            candidate_t,\n",
        "            pos_t,\n",
        "            candidateInfo_tup.series_uid,\n",
        "            torch.tensor(center_irc),\n",
        "        )"
      ],
      "metadata": {
        "id": "G_L7VkgpZaKl"
      },
      "execution_count": 17,
      "outputs": []
    },
    {
      "cell_type": "code",
      "source": [
        "candidateInfo_list = getCandidateInfoList(requireOnDisk_bool=False)\n",
        "positiveInfo_list = [x for x in candidateInfo_list if x[0]]\n",
        "diameter_list = [x[1] for x in positiveInfo_list]\n",
        "\n",
        "for i in range(0, len(diameter_list), 100):\n",
        "    print('{:4} {:4.1f} mm'.format(i, diameter_list[i]))"
      ],
      "metadata": {
        "id": "3H98OME4ZaMV",
        "colab": {
          "base_uri": "https://localhost:8080/"
        },
        "outputId": "dd4448d7-ec9f-4c23-9b55-2781f99c43bb"
      },
      "execution_count": 18,
      "outputs": [
        {
          "output_type": "stream",
          "name": "stdout",
          "text": [
            "   0 32.3 mm\n",
            " 100 17.7 mm\n",
            " 200 13.0 mm\n",
            " 300 10.0 mm\n",
            " 400  8.2 mm\n",
            " 500  7.0 mm\n",
            " 600  6.3 mm\n",
            " 700  5.7 mm\n",
            " 800  5.1 mm\n",
            " 900  4.7 mm\n",
            "1000  4.0 mm\n",
            "1100  0.0 mm\n",
            "1200  0.0 mm\n",
            "1300  0.0 mm\n"
          ]
        }
      ]
    },
    {
      "cell_type": "markdown",
      "source": [
        "## Visualisation"
      ],
      "metadata": {
        "id": "7Dtnpgq6WRwp"
      }
    },
    {
      "cell_type": "code",
      "source": [
        "import matplotlib\n",
        "matplotlib.use('nbagg')\n",
        "\n",
        "import numpy as np\n",
        "import matplotlib.pyplot as plt\n",
        "\n",
        "clim=(-1000.0, 300)\n",
        "\n",
        "def findPositiveSamples(start_ndx=0, limit=100):\n",
        "    ds = LunaDataset()\n",
        "\n",
        "    positiveSample_list = []\n",
        "    for sample_tup in ds.candidateInfo_list:\n",
        "        if sample_tup.isNodule_bool:\n",
        "            print(len(positiveSample_list), sample_tup)\n",
        "            positiveSample_list.append(sample_tup)\n",
        "\n",
        "        if len(positiveSample_list) >= limit:\n",
        "            break\n",
        "\n",
        "    return positiveSample_list\n",
        "\n",
        "def showCandidate(series_uid, batch_ndx=None, **kwargs):\n",
        "    ds = LunaDataset(series_uid=series_uid, **kwargs)\n",
        "    pos_list = [i for i, x in enumerate(ds.candidateInfo_list) if x.isNodule_bool]\n",
        "\n",
        "    if batch_ndx is None:\n",
        "        if pos_list:\n",
        "            batch_ndx = pos_list[0]\n",
        "        else:\n",
        "            print(\"Warning: no positive samples found; using first negative sample.\")\n",
        "            batch_ndx = 0\n",
        "\n",
        "    ct = Ct(series_uid)\n",
        "    ct_t, pos_t, series_uid, center_irc = ds[batch_ndx]\n",
        "    ct_a = ct_t[0].numpy()\n",
        "\n",
        "    fig = plt.figure(figsize=(30, 50))\n",
        "\n",
        "    group_list = [\n",
        "        [9, 11, 13],\n",
        "        [15, 16, 17],\n",
        "        [19, 21, 23],\n",
        "    ]\n",
        "\n",
        "    subplot = fig.add_subplot(len(group_list) + 2, 3, 1)\n",
        "    subplot.set_title('index {}'.format(int(center_irc[0])), fontsize=30)\n",
        "    for label in (subplot.get_xticklabels() + subplot.get_yticklabels()):\n",
        "        label.set_fontsize(20)\n",
        "    plt.imshow(ct.hu_a[int(center_irc[0])], clim=clim, cmap='gray')\n",
        "\n",
        "    subplot = fig.add_subplot(len(group_list) + 2, 3, 2)\n",
        "    subplot.set_title('row {}'.format(int(center_irc[1])), fontsize=30)\n",
        "    for label in (subplot.get_xticklabels() + subplot.get_yticklabels()):\n",
        "        label.set_fontsize(20)\n",
        "    plt.imshow(ct.hu_a[:,int(center_irc[1])], clim=clim, cmap='gray')\n",
        "    plt.gca().invert_yaxis()\n",
        "\n",
        "    subplot = fig.add_subplot(len(group_list) + 2, 3, 3)\n",
        "    subplot.set_title('col {}'.format(int(center_irc[2])), fontsize=30)\n",
        "    for label in (subplot.get_xticklabels() + subplot.get_yticklabels()):\n",
        "        label.set_fontsize(20)\n",
        "    plt.imshow(ct.hu_a[:,:,int(center_irc[2])], clim=clim, cmap='gray')\n",
        "    plt.gca().invert_yaxis()\n",
        "\n",
        "    subplot = fig.add_subplot(len(group_list) + 2, 3, 4)\n",
        "    subplot.set_title('index {}'.format(int(center_irc[0])), fontsize=30)\n",
        "    for label in (subplot.get_xticklabels() + subplot.get_yticklabels()):\n",
        "        label.set_fontsize(20)\n",
        "    plt.imshow(ct_a[ct_a.shape[0]//2], clim=clim, cmap='gray')\n",
        "\n",
        "    subplot = fig.add_subplot(len(group_list) + 2, 3, 5)\n",
        "    subplot.set_title('row {}'.format(int(center_irc[1])), fontsize=30)\n",
        "    for label in (subplot.get_xticklabels() + subplot.get_yticklabels()):\n",
        "        label.set_fontsize(20)\n",
        "    plt.imshow(ct_a[:,ct_a.shape[1]//2], clim=clim, cmap='gray')\n",
        "    plt.gca().invert_yaxis()\n",
        "\n",
        "    subplot = fig.add_subplot(len(group_list) + 2, 3, 6)\n",
        "    subplot.set_title('col {}'.format(int(center_irc[2])), fontsize=30)\n",
        "    for label in (subplot.get_xticklabels() + subplot.get_yticklabels()):\n",
        "        label.set_fontsize(20)\n",
        "    plt.imshow(ct_a[:,:,ct_a.shape[2]//2], clim=clim, cmap='gray')\n",
        "    plt.gca().invert_yaxis()\n",
        "\n",
        "    for row, index_list in enumerate(group_list):\n",
        "        for col, index in enumerate(index_list):\n",
        "            subplot = fig.add_subplot(len(group_list) + 2, 3, row * 3 + col + 7)\n",
        "            subplot.set_title('slice {}'.format(index), fontsize=30)\n",
        "            for label in (subplot.get_xticklabels() + subplot.get_yticklabels()):\n",
        "                label.set_fontsize(20)\n",
        "            plt.imshow(ct_a[index], clim=clim, cmap='gray')\n",
        "\n",
        "\n",
        "    print(series_uid, batch_ndx, bool(pos_t[0]), pos_list)"
      ],
      "metadata": {
        "id": "L02E8MRmIELN"
      },
      "execution_count": 19,
      "outputs": []
    },
    {
      "cell_type": "code",
      "source": [
        "noduleSample_list = findPositiveSamples()"
      ],
      "metadata": {
        "colab": {
          "base_uri": "https://localhost:8080/"
        },
        "id": "lWT1LZyOWTA3",
        "outputId": "9e007bab-894f-41f5-f2ea-61b1e4b49c4b"
      },
      "execution_count": 20,
      "outputs": [
        {
          "output_type": "stream",
          "name": "stdout",
          "text": [
            "0 CandidateInfoTuple(isNodule_bool=True, diameter_mm=32.27003025, series_uid='1.3.6.1.4.1.14519.5.2.1.6279.6001.287966244644280690737019247886', center_xyz=(67.61451718, 85.02525992, -109.8084416))\n",
            "1 CandidateInfoTuple(isNodule_bool=True, diameter_mm=30.61040636, series_uid='1.3.6.1.4.1.14519.5.2.1.6279.6001.112740418331256326754121315800', center_xyz=(47.90350511, 37.60442008, -99.93417567))\n",
            "2 CandidateInfoTuple(isNodule_bool=True, diameter_mm=30.61040636, series_uid='1.3.6.1.4.1.14519.5.2.1.6279.6001.112740418331256326754121315800', center_xyz=(44.19, 37.79, -107.01))\n",
            "3 CandidateInfoTuple(isNodule_bool=True, diameter_mm=30.61040636, series_uid='1.3.6.1.4.1.14519.5.2.1.6279.6001.112740418331256326754121315800', center_xyz=(40.69, 32.19, -97.15))\n",
            "4 CandidateInfoTuple(isNodule_bool=True, diameter_mm=27.44242293, series_uid='1.3.6.1.4.1.14519.5.2.1.6279.6001.943403138251347598519939390311', center_xyz=(-45.29440163, 74.86925386, -97.52812481))\n",
            "5 CandidateInfoTuple(isNodule_bool=True, diameter_mm=27.07544345, series_uid='1.3.6.1.4.1.14519.5.2.1.6279.6001.481278873893653517789960724156', center_xyz=(-102.571208, -5.186558766, -205.1033412))\n",
            "6 CandidateInfoTuple(isNodule_bool=True, diameter_mm=26.83708074, series_uid='1.3.6.1.4.1.14519.5.2.1.6279.6001.487268565754493433372433148666', center_xyz=(121.152909372, 12.9136003304, -159.399497186))\n",
            "7 CandidateInfoTuple(isNodule_bool=True, diameter_mm=26.83708074, series_uid='1.3.6.1.4.1.14519.5.2.1.6279.6001.487268565754493433372433148666', center_xyz=(118.8539408, 11.54202797, -165.5042458))\n",
            "8 CandidateInfoTuple(isNodule_bool=True, diameter_mm=25.87269662, series_uid='1.3.6.1.4.1.14519.5.2.1.6279.6001.177086402277715068525592995222', center_xyz=(-66.628286875, 57.151972075, -110.12035075))\n",
            "9 CandidateInfoTuple(isNodule_bool=True, diameter_mm=25.41540526, series_uid='1.3.6.1.4.1.14519.5.2.1.6279.6001.219618492426142913407827034169', center_xyz=(-101.7504204, -95.65460516, -138.4943211))\n",
            "10 CandidateInfoTuple(isNodule_bool=True, diameter_mm=25.23320204, series_uid='1.3.6.1.4.1.14519.5.2.1.6279.6001.511347030803753100045216493273', center_xyz=(63.4740118048, 73.9174523314, -213.736128767))\n",
            "11 CandidateInfoTuple(isNodule_bool=True, diameter_mm=24.78201705, series_uid='1.3.6.1.4.1.14519.5.2.1.6279.6001.183982839679953938397312236359', center_xyz=(-44.69, 69.79, -149.72))\n",
            "12 CandidateInfoTuple(isNodule_bool=True, diameter_mm=24.78201705, series_uid='1.3.6.1.4.1.14519.5.2.1.6279.6001.183982839679953938397312236359', center_xyz=(-46.36896147, 64.20509868, -149.8345695))\n",
            "13 CandidateInfoTuple(isNodule_bool=True, diameter_mm=24.78201705, series_uid='1.3.6.1.4.1.14519.5.2.1.6279.6001.183982839679953938397312236359', center_xyz=(-51.69, 60.69, -151.84))\n",
            "14 CandidateInfoTuple(isNodule_bool=True, diameter_mm=24.77327957, series_uid='1.3.6.1.4.1.14519.5.2.1.6279.6001.146987333806092287055399155268', center_xyz=(97.3540746077, -16.7922286632, -263.659908373))\n",
            "15 CandidateInfoTuple(isNodule_bool=True, diameter_mm=24.77327957, series_uid='1.3.6.1.4.1.14519.5.2.1.6279.6001.146987333806092287055399155268', center_xyz=(96.9273129009, -25.9394823208, -259.572637924))\n",
            "16 CandidateInfoTuple(isNodule_bool=True, diameter_mm=24.77327957, series_uid='1.3.6.1.4.1.14519.5.2.1.6279.6001.146987333806092287055399155268', center_xyz=(96.7240184522, -15.392485207, -254.088367666))\n",
            "17 CandidateInfoTuple(isNodule_bool=True, diameter_mm=24.77327957, series_uid='1.3.6.1.4.1.14519.5.2.1.6279.6001.146987333806092287055399155268', center_xyz=(92.04749503, -21.50898302, -258.0493441))\n",
            "18 CandidateInfoTuple(isNodule_bool=True, diameter_mm=24.66335961, series_uid='1.3.6.1.4.1.14519.5.2.1.6279.6001.316900421002460665752357657094', center_xyz=(-101.02413021, -46.3316843088, -138.184349429))\n",
            "19 CandidateInfoTuple(isNodule_bool=True, diameter_mm=24.28186352, series_uid='1.3.6.1.4.1.14519.5.2.1.6279.6001.153985109349433321657655488650', center_xyz=(-31.27671425, 50.03085749, -62.114861675))\n",
            "20 CandidateInfoTuple(isNodule_bool=True, diameter_mm=24.28186352, series_uid='1.3.6.1.4.1.14519.5.2.1.6279.6001.153985109349433321657655488650', center_xyz=(-35.8713914979, 44.7804912383, -64.3671546075))\n",
            "21 CandidateInfoTuple(isNodule_bool=True, diameter_mm=23.93362973, series_uid='1.3.6.1.4.1.14519.5.2.1.6279.6001.267957701183569638795986183786', center_xyz=(-93.56243383, -176.0629504, 213.322413))\n",
            "22 CandidateInfoTuple(isNodule_bool=True, diameter_mm=23.93362973, series_uid='1.3.6.1.4.1.14519.5.2.1.6279.6001.267957701183569638795986183786', center_xyz=(-97.37, -178.69, 207.83))\n",
            "23 CandidateInfoTuple(isNodule_bool=True, diameter_mm=23.80291305, series_uid='1.3.6.1.4.1.14519.5.2.1.6279.6001.997611074084993415992563148335', center_xyz=(-23.71929698, 31.71448919, -156.1722334))\n",
            "24 CandidateInfoTuple(isNodule_bool=True, diameter_mm=23.68811013, series_uid='1.3.6.1.4.1.14519.5.2.1.6279.6001.194766721609772924944646251928', center_xyz=(-110.51142385, 8.69531556, -123.28560915))\n",
            "25 CandidateInfoTuple(isNodule_bool=True, diameter_mm=23.57156231, series_uid='1.3.6.1.4.1.14519.5.2.1.6279.6001.220596530836092324070084384692', center_xyz=(-83.80648889, 247.1206328, -508.1281928))\n",
            "26 CandidateInfoTuple(isNodule_bool=True, diameter_mm=23.48374545, series_uid='1.3.6.1.4.1.14519.5.2.1.6279.6001.148447286464082095534651426689', center_xyz=(-90.1922382588, 32.9077042197, -127.738768532))\n",
            "27 CandidateInfoTuple(isNodule_bool=True, diameter_mm=23.48374545, series_uid='1.3.6.1.4.1.14519.5.2.1.6279.6001.148447286464082095534651426689', center_xyz=(-93.9441715503, 28.8165564567, -130.21511348))\n",
            "28 CandidateInfoTuple(isNodule_bool=True, diameter_mm=23.35064438, series_uid='1.3.6.1.4.1.14519.5.2.1.6279.6001.179049373636438705059720603192', center_xyz=(57.42, 81.14, -118.09))\n",
            "29 CandidateInfoTuple(isNodule_bool=True, diameter_mm=23.35064438, series_uid='1.3.6.1.4.1.14519.5.2.1.6279.6001.179049373636438705059720603192', center_xyz=(56.4889724157, 85.9418105037, -115.9731945))\n",
            "30 CandidateInfoTuple(isNodule_bool=True, diameter_mm=23.35064438, series_uid='1.3.6.1.4.1.14519.5.2.1.6279.6001.179049373636438705059720603192', center_xyz=(50.4361084414, 90.0424445754, -113.908439345))\n",
            "31 CandidateInfoTuple(isNodule_bool=True, diameter_mm=23.35064438, series_uid='1.3.6.1.4.1.14519.5.2.1.6279.6001.179049373636438705059720603192', center_xyz=(50.42, 85.34, -118.09))\n",
            "32 CandidateInfoTuple(isNodule_bool=True, diameter_mm=23.04344837, series_uid='1.3.6.1.4.1.14519.5.2.1.6279.6001.329404588567903628160652715124', center_xyz=(37.5974516166, -29.0404354588, -89.5895072532))\n",
            "33 CandidateInfoTuple(isNodule_bool=True, diameter_mm=22.88079244, series_uid='1.3.6.1.4.1.14519.5.2.1.6279.6001.272348349298439120568330857680', center_xyz=(-47.99377473, 46.12731074, -87.873371315))\n",
            "34 CandidateInfoTuple(isNodule_bool=True, diameter_mm=22.78152704, series_uid='1.3.6.1.4.1.14519.5.2.1.6279.6001.487745546557477250336016826588', center_xyz=(52.18, -21.02, -81.16))\n",
            "35 CandidateInfoTuple(isNodule_bool=True, diameter_mm=22.78152704, series_uid='1.3.6.1.4.1.14519.5.2.1.6279.6001.487745546557477250336016826588', center_xyz=(47.91906761, -15.33163049, -79.39068082))\n",
            "36 CandidateInfoTuple(isNodule_bool=True, diameter_mm=22.77961842, series_uid='1.3.6.1.4.1.14519.5.2.1.6279.6001.280072876841890439628529365478', center_xyz=(106.735462, -126.2609139, -246.7420448))\n",
            "37 CandidateInfoTuple(isNodule_bool=True, diameter_mm=22.77961842, series_uid='1.3.6.1.4.1.14519.5.2.1.6279.6001.280072876841890439628529365478', center_xyz=(105.333333214, -122.206423177, -250.179791813))\n",
            "38 CandidateInfoTuple(isNodule_bool=True, diameter_mm=22.46928325, series_uid='1.3.6.1.4.1.14519.5.2.1.6279.6001.323408652979949774528873200770', center_xyz=(71.85144885, -14.25481301, -196.650432))\n",
            "39 CandidateInfoTuple(isNodule_bool=True, diameter_mm=22.30485311, series_uid='1.3.6.1.4.1.14519.5.2.1.6279.6001.300136985030081433029390459071', center_xyz=(120.7322104, 8.225171006, -225.9610159))\n",
            "40 CandidateInfoTuple(isNodule_bool=True, diameter_mm=22.23698113, series_uid='1.3.6.1.4.1.14519.5.2.1.6279.6001.613212850444255764524630781782', center_xyz=(-25.152181, 22.59259632, -187.736925))\n",
            "41 CandidateInfoTuple(isNodule_bool=True, diameter_mm=22.22543938, series_uid='1.3.6.1.4.1.14519.5.2.1.6279.6001.286422846896797433168187085942', center_xyz=(-89.5875500717, 11.3033645407, -70.9842087538))\n",
            "42 CandidateInfoTuple(isNodule_bool=True, diameter_mm=22.13533119, series_uid='1.3.6.1.4.1.14519.5.2.1.6279.6001.272123398257168239653655006815', center_xyz=(127.381224886, 35.3882732546, -227.662204027))\n",
            "43 CandidateInfoTuple(isNodule_bool=True, diameter_mm=22.13322034, series_uid='1.3.6.1.4.1.14519.5.2.1.6279.6001.121391737347333465796214915391', center_xyz=(51.27, -67.3, -117.57))\n",
            "44 CandidateInfoTuple(isNodule_bool=True, diameter_mm=22.13322034, series_uid='1.3.6.1.4.1.14519.5.2.1.6279.6001.121391737347333465796214915391', center_xyz=(46.423809125, -64.87603544, -122.4506795))\n",
            "45 CandidateInfoTuple(isNodule_bool=True, diameter_mm=22.03891888, series_uid='1.3.6.1.4.1.14519.5.2.1.6279.6001.272344603176687884771013620823', center_xyz=(96.97240574, 1.775612227, -113.0049791))\n",
            "46 CandidateInfoTuple(isNodule_bool=True, diameter_mm=21.87973183, series_uid='1.3.6.1.4.1.14519.5.2.1.6279.6001.625270601160880745954773142570', center_xyz=(-108.2007072, 46.48017452, -143.2481594))\n",
            "47 CandidateInfoTuple(isNodule_bool=True, diameter_mm=21.87973183, series_uid='1.3.6.1.4.1.14519.5.2.1.6279.6001.625270601160880745954773142570', center_xyz=(-109.95, 40.62, -145.83))\n",
            "48 CandidateInfoTuple(isNodule_bool=True, diameter_mm=21.82795321, series_uid='1.3.6.1.4.1.14519.5.2.1.6279.6001.123697637451437522065941162930', center_xyz=(-128.341115395, -14.2479988938, -77.7156132477))\n",
            "49 CandidateInfoTuple(isNodule_bool=True, diameter_mm=21.67749437, series_uid='1.3.6.1.4.1.14519.5.2.1.6279.6001.306948744223170422945185006551', center_xyz=(115.8300923, -1.798282385, -208.7569347))\n",
            "50 CandidateInfoTuple(isNodule_bool=True, diameter_mm=21.58311204, series_uid='1.3.6.1.4.1.14519.5.2.1.6279.6001.905371958588660410240398317235', center_xyz=(109.142472723, 49.6356928166, -121.183579092))\n",
            "51 CandidateInfoTuple(isNodule_bool=True, diameter_mm=21.57854728, series_uid='1.3.6.1.4.1.14519.5.2.1.6279.6001.624425075947752229712087113746', center_xyz=(-72.66975017, -60.94410393, -262.0051515))\n",
            "52 CandidateInfoTuple(isNodule_bool=True, diameter_mm=21.47561299, series_uid='1.3.6.1.4.1.14519.5.2.1.6279.6001.169128136262002764211589185953', center_xyz=(54.4462360178, 10.0927486763, -36.7112190437))\n",
            "53 CandidateInfoTuple(isNodule_bool=True, diameter_mm=21.45372882, series_uid='1.3.6.1.4.1.14519.5.2.1.6279.6001.170706757615202213033480003264', center_xyz=(72.1526638728, 77.4822388214, -193.387020499))\n",
            "54 CandidateInfoTuple(isNodule_bool=True, diameter_mm=21.34312682, series_uid='1.3.6.1.4.1.14519.5.2.1.6279.6001.675543413149938600000570588203', center_xyz=(106.744776799, -104.042070817, -208.328811627))\n",
            "55 CandidateInfoTuple(isNodule_bool=True, diameter_mm=21.25611171, series_uid='1.3.6.1.4.1.14519.5.2.1.6279.6001.163901773171373940247829492387', center_xyz=(-62.43562668, 40.89339483, -418.7333581))\n",
            "56 CandidateInfoTuple(isNodule_bool=True, diameter_mm=21.08961863, series_uid='1.3.6.1.4.1.14519.5.2.1.6279.6001.102681962408431413578140925249', center_xyz=(104.81380335, 20.8385087972, -92.6909672057))\n",
            "57 CandidateInfoTuple(isNodule_bool=True, diameter_mm=21.08245746, series_uid='1.3.6.1.4.1.14519.5.2.1.6279.6001.323753921818102744511069914832', center_xyz=(97.0113860538, 57.5982093699, -278.590343715))\n",
            "58 CandidateInfoTuple(isNodule_bool=True, diameter_mm=21.08245746, series_uid='1.3.6.1.4.1.14519.5.2.1.6279.6001.323753921818102744511069914832', center_xyz=(94.13, 58.79, -283.32))\n",
            "59 CandidateInfoTuple(isNodule_bool=True, diameter_mm=20.91111634, series_uid='1.3.6.1.4.1.14519.5.2.1.6279.6001.741709061958490690246385302477', center_xyz=(113.897541, -22.39244268, -162.31478))\n",
            "60 CandidateInfoTuple(isNodule_bool=True, diameter_mm=20.91111634, series_uid='1.3.6.1.4.1.14519.5.2.1.6279.6001.741709061958490690246385302477', center_xyz=(110.203735675, -20.1807410084, -165.26117976))\n",
            "61 CandidateInfoTuple(isNodule_bool=True, diameter_mm=20.88367551, series_uid='1.3.6.1.4.1.14519.5.2.1.6279.6001.616033753016904899083676284739', center_xyz=(-39.40689448, 112.1820721, -174.0780178))\n",
            "62 CandidateInfoTuple(isNodule_bool=True, diameter_mm=20.52475616, series_uid='1.3.6.1.4.1.14519.5.2.1.6279.6001.198698492013538481395497694975', center_xyz=(67.1465716505, 69.5146890415, -217.556904881))\n",
            "63 CandidateInfoTuple(isNodule_bool=True, diameter_mm=20.4841094, series_uid='1.3.6.1.4.1.14519.5.2.1.6279.6001.167237290696350215427953159586', center_xyz=(-89.45197187, -12.46417869, -122.368542))\n",
            "64 CandidateInfoTuple(isNodule_bool=True, diameter_mm=20.41212558, series_uid='1.3.6.1.4.1.14519.5.2.1.6279.6001.206097113343059612247503064658', center_xyz=(67.7764023684, -122.674798775, -155.064786875))\n",
            "65 CandidateInfoTuple(isNodule_bool=True, diameter_mm=20.38922514, series_uid='1.3.6.1.4.1.14519.5.2.1.6279.6001.271307051432838466826189754230', center_xyz=(124.3919697, -5.470035499, -263.7667514))\n",
            "66 CandidateInfoTuple(isNodule_bool=True, diameter_mm=20.38922514, series_uid='1.3.6.1.4.1.14519.5.2.1.6279.6001.271307051432838466826189754230', center_xyz=(120.809702607, -3.01965540139, -258.826817821))\n",
            "67 CandidateInfoTuple(isNodule_bool=True, diameter_mm=20.15998367, series_uid='1.3.6.1.4.1.14519.5.2.1.6279.6001.194632613233275988184244485809', center_xyz=(-47.08080052, -10.14514114, -95.64764905))\n",
            "68 CandidateInfoTuple(isNodule_bool=True, diameter_mm=20.11629595, series_uid='1.3.6.1.4.1.14519.5.2.1.6279.6001.655242448149322898770987310561', center_xyz=(-50.67176053, -13.36207647, -308.4063333))\n",
            "69 CandidateInfoTuple(isNodule_bool=True, diameter_mm=20.03584717, series_uid='1.3.6.1.4.1.14519.5.2.1.6279.6001.272123398257168239653655006815', center_xyz=(107.311250506, -0.937213524814, -188.600748396))\n",
            "70 CandidateInfoTuple(isNodule_bool=True, diameter_mm=19.92726356, series_uid='1.3.6.1.4.1.14519.5.2.1.6279.6001.948414623428298219623354433437', center_xyz=(-42.134598795, -37.86320447, -124.4268055))\n",
            "71 CandidateInfoTuple(isNodule_bool=True, diameter_mm=19.91668687, series_uid='1.3.6.1.4.1.14519.5.2.1.6279.6001.217955041973656886482758642958', center_xyz=(-44.41190009, 56.88723854, -48.55486639))\n",
            "72 CandidateInfoTuple(isNodule_bool=True, diameter_mm=19.84919656, series_uid='1.3.6.1.4.1.14519.5.2.1.6279.6001.211956804948320236390242845468', center_xyz=(46.1665905401, 170.74564813, -528.435433467))\n",
            "73 CandidateInfoTuple(isNodule_bool=True, diameter_mm=19.65387738, series_uid='1.3.6.1.4.1.14519.5.2.1.6279.6001.752756872840730509471096155114', center_xyz=(56.1226132601, 67.868268695, -65.6269886453))\n",
            "74 CandidateInfoTuple(isNodule_bool=True, diameter_mm=19.57555466, series_uid='1.3.6.1.4.1.14519.5.2.1.6279.6001.252634638822000832774167856951', center_xyz=(60.4248994838, 67.1512058204, -99.1406061111))\n",
            "75 CandidateInfoTuple(isNodule_bool=True, diameter_mm=19.34841823, series_uid='1.3.6.1.4.1.14519.5.2.1.6279.6001.198698492013538481395497694975', center_xyz=(82.81, -15.75, -162.89))\n",
            "76 CandidateInfoTuple(isNodule_bool=True, diameter_mm=19.34841823, series_uid='1.3.6.1.4.1.14519.5.2.1.6279.6001.198698492013538481395497694975', center_xyz=(77.2727775603, -16.7787004936, -164.485662499))\n",
            "77 CandidateInfoTuple(isNodule_bool=True, diameter_mm=19.310152, series_uid='1.3.6.1.4.1.14519.5.2.1.6279.6001.259123825760999546551970425757', center_xyz=(-41.68688864, 177.8605527, -381.5487979))\n",
            "78 CandidateInfoTuple(isNodule_bool=True, diameter_mm=19.0442187, series_uid='1.3.6.1.4.1.14519.5.2.1.6279.6001.173931884906244951746140865701', center_xyz=(75.83954427, 85.728505625, -193.82938625))\n",
            "79 CandidateInfoTuple(isNodule_bool=True, diameter_mm=18.99864751, series_uid='1.3.6.1.4.1.14519.5.2.1.6279.6001.290135156874098366424871975734', center_xyz=(-58.9822830798, 92.211052775, -217.824186038))\n",
            "80 CandidateInfoTuple(isNodule_bool=True, diameter_mm=18.98004463, series_uid='1.3.6.1.4.1.14519.5.2.1.6279.6001.948414623428298219623354433437', center_xyz=(-80.52844797, 23.70176427, -183.1614706))\n",
            "81 CandidateInfoTuple(isNodule_bool=True, diameter_mm=18.86783511, series_uid='1.3.6.1.4.1.14519.5.2.1.6279.6001.323408652979949774528873200770', center_xyz=(75.3236441, 30.87016712, -101.1660698))\n",
            "82 CandidateInfoTuple(isNodule_bool=True, diameter_mm=18.86783511, series_uid='1.3.6.1.4.1.14519.5.2.1.6279.6001.323408652979949774528873200770', center_xyz=(70.8255923438, 27.9653840377, -101.655301073))\n",
            "83 CandidateInfoTuple(isNodule_bool=True, diameter_mm=18.82522399, series_uid='1.3.6.1.4.1.14519.5.2.1.6279.6001.204802250386343794613980417281', center_xyz=(103.538289264, -149.865277714, -168.620028573))\n",
            "84 CandidateInfoTuple(isNodule_bool=True, diameter_mm=18.82522399, series_uid='1.3.6.1.4.1.14519.5.2.1.6279.6001.204802250386343794613980417281', center_xyz=(99.91284756, -146.2387841, -169.4623634))\n",
            "85 CandidateInfoTuple(isNodule_bool=True, diameter_mm=18.79314938, series_uid='1.3.6.1.4.1.14519.5.2.1.6279.6001.143622857676008763729469324839', center_xyz=(-77.05987845, -149.57574, -127.5254171))\n",
            "86 CandidateInfoTuple(isNodule_bool=True, diameter_mm=18.7832325, series_uid='1.3.6.1.4.1.14519.5.2.1.6279.6001.202811684116768680758082619196', center_xyz=(-82.79150362, -21.43587141, -97.18427459))\n",
            "87 CandidateInfoTuple(isNodule_bool=True, diameter_mm=18.67552564, series_uid='1.3.6.1.4.1.14519.5.2.1.6279.6001.970428941353693253759289796610', center_xyz=(-115.0750247, 64.37987761, -140.4059531))\n",
            "88 CandidateInfoTuple(isNodule_bool=True, diameter_mm=18.54514997, series_uid='1.3.6.1.4.1.14519.5.2.1.6279.6001.100621383016233746780170740405', center_xyz=(2.019565949, 172.5930677, -405.0528932))\n",
            "89 CandidateInfoTuple(isNodule_bool=True, diameter_mm=18.50978255, series_uid='1.3.6.1.4.1.14519.5.2.1.6279.6001.282512043257574309474415322775', center_xyz=(-87.764383255, 5.7813887, -184.80125035))\n",
            "90 CandidateInfoTuple(isNodule_bool=True, diameter_mm=18.40907555, series_uid='1.3.6.1.4.1.14519.5.2.1.6279.6001.613212850444255764524630781782', center_xyz=(-19.84160513, 34.92769866, -208.1710437))\n",
            "91 CandidateInfoTuple(isNodule_bool=True, diameter_mm=18.38478817, series_uid='1.3.6.1.4.1.14519.5.2.1.6279.6001.172243743899615313644757844726', center_xyz=(-132.919547876, 62.5582296311, -102.150007628))\n",
            "92 CandidateInfoTuple(isNodule_bool=True, diameter_mm=18.210145, series_uid='1.3.6.1.4.1.14519.5.2.1.6279.6001.287966244644280690737019247886', center_xyz=(102.8434969, 67.07660635, -238.6002813))\n",
            "93 CandidateInfoTuple(isNodule_bool=True, diameter_mm=18.20857028, series_uid='1.3.6.1.4.1.14519.5.2.1.6279.6001.100621383016233746780170740405', center_xyz=(94.93, 153.03, -429.91))\n",
            "94 CandidateInfoTuple(isNodule_bool=True, diameter_mm=18.20857028, series_uid='1.3.6.1.4.1.14519.5.2.1.6279.6001.100621383016233746780170740405', center_xyz=(90.7864693642, 148.811688395, -426.70448803))\n",
            "95 CandidateInfoTuple(isNodule_bool=True, diameter_mm=18.15623418, series_uid='1.3.6.1.4.1.14519.5.2.1.6279.6001.897684031374557757145405000951', center_xyz=(47.48394836, 186.8059443, -729.2846031))\n",
            "96 CandidateInfoTuple(isNodule_bool=True, diameter_mm=18.12790811, series_uid='1.3.6.1.4.1.14519.5.2.1.6279.6001.107109359065300889765026303943', center_xyz=(-97.54122491, -73.36723259, -222.9974028))\n",
            "97 CandidateInfoTuple(isNodule_bool=True, diameter_mm=18.02111617, series_uid='1.3.6.1.4.1.14519.5.2.1.6279.6001.257383535269991165447822992959', center_xyz=(-14.0390189941, 54.1839549346, -169.093320723))\n",
            "98 CandidateInfoTuple(isNodule_bool=True, diameter_mm=17.98864725, series_uid='1.3.6.1.4.1.14519.5.2.1.6279.6001.275007193025729362844652516689', center_xyz=(-29.34081638, -18.82685309, -134.5196606))\n",
            "99 CandidateInfoTuple(isNodule_bool=True, diameter_mm=17.75323185, series_uid='1.3.6.1.4.1.14519.5.2.1.6279.6001.187451715205085403623595258748', center_xyz=(94.1132711884, -15.8936132585, -202.847228297))\n"
          ]
        }
      ]
    },
    {
      "cell_type": "code",
      "source": [
        "series_uid = noduleSample_list[11][2]\n",
        "print(series_uid)"
      ],
      "metadata": {
        "colab": {
          "base_uri": "https://localhost:8080/"
        },
        "id": "vgCB9ElxWTC9",
        "outputId": "5c1708b7-1273-4e36-82da-b3c226769356"
      },
      "execution_count": 23,
      "outputs": [
        {
          "output_type": "stream",
          "name": "stdout",
          "text": [
            "1.3.6.1.4.1.14519.5.2.1.6279.6001.183982839679953938397312236359\n"
          ]
        }
      ]
    }
  ]
}