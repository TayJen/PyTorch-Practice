{
  "nbformat": 4,
  "nbformat_minor": 0,
  "metadata": {
    "colab": {
      "name": "PyTorch Logistic Regression for Image Classification.ipynb",
      "provenance": [],
      "collapsed_sections": [
        "pW-TWTf8r_8Z",
        "vh4wdy08sHdN",
        "q1Fdt_OHzOq7",
        "WKAe3Dvuz2z-",
        "8vPvBn-u03qs",
        "bqRS6IRj2Z78",
        "tGeYOrZ_46gW",
        "Wsh3p-225iwJ"
      ],
      "mount_file_id": "1RsSdkPfvvxEpS7oHki9Zd5tyYUEZzqdD",
      "authorship_tag": "ABX9TyM5WJ5qa5xxfEXXj/rtMNC3"
    },
    "kernelspec": {
      "name": "python3",
      "display_name": "Python 3"
    },
    "language_info": {
      "name": "python"
    }
  },
  "cells": [
    {
      "cell_type": "markdown",
      "source": [
        "### Imports"
      ],
      "metadata": {
        "id": "pW-TWTf8r_8Z"
      }
    },
    {
      "cell_type": "code",
      "execution_count": 23,
      "metadata": {
        "id": "bPxg_R2fnUUh"
      },
      "outputs": [],
      "source": [
        "import torch\n",
        "import torchvision\n",
        "from torchvision.datasets import MNIST"
      ]
    },
    {
      "cell_type": "markdown",
      "source": [
        "## Download Data"
      ],
      "metadata": {
        "id": "vh4wdy08sHdN"
      }
    },
    {
      "cell_type": "code",
      "source": [
        "path = '/content/drive/MyDrive/PyTorch Practice/Data/'\n",
        "dataset = MNIST(path, download=True)"
      ],
      "metadata": {
        "id": "oLDiCxSJnd-Z"
      },
      "execution_count": 24,
      "outputs": []
    },
    {
      "cell_type": "code",
      "source": [
        "len(dataset)"
      ],
      "metadata": {
        "id": "LQ7AlRB8neBR",
        "colab": {
          "base_uri": "https://localhost:8080/"
        },
        "outputId": "99726942-26f3-43ca-c5fd-2a9a9428ffd7"
      },
      "execution_count": 25,
      "outputs": [
        {
          "output_type": "execute_result",
          "data": {
            "text/plain": [
              "60000"
            ]
          },
          "metadata": {},
          "execution_count": 25
        }
      ]
    },
    {
      "cell_type": "markdown",
      "source": [
        "### Test"
      ],
      "metadata": {
        "id": "q1Fdt_OHzOq7"
      }
    },
    {
      "cell_type": "code",
      "source": [
        "test_dataset = MNIST(path, train=False)\n",
        "len(test_dataset)"
      ],
      "metadata": {
        "id": "EC56te7fneCa",
        "colab": {
          "base_uri": "https://localhost:8080/"
        },
        "outputId": "f68e8e08-c403-4a16-f678-7871ff9d8fd1"
      },
      "execution_count": 26,
      "outputs": [
        {
          "output_type": "execute_result",
          "data": {
            "text/plain": [
              "10000"
            ]
          },
          "metadata": {},
          "execution_count": 26
        }
      ]
    },
    {
      "cell_type": "markdown",
      "source": [
        "### Visualize sample"
      ],
      "metadata": {
        "id": "WKAe3Dvuz2z-"
      }
    },
    {
      "cell_type": "code",
      "source": [
        "import matplotlib.pyplot as plt\n",
        "%matplotlib inline"
      ],
      "metadata": {
        "id": "y0ozmTwVneFD"
      },
      "execution_count": 27,
      "outputs": []
    },
    {
      "cell_type": "code",
      "source": [
        "image, label = dataset[0]\n",
        "plt.imshow(image, cmap='gray')\n",
        "print('Label:', label)"
      ],
      "metadata": {
        "id": "m4R50gZmneI-",
        "colab": {
          "base_uri": "https://localhost:8080/",
          "height": 0
        },
        "outputId": "d5b76ae1-a6e3-4b44-8c48-9d32d4b802ea"
      },
      "execution_count": 28,
      "outputs": [
        {
          "output_type": "stream",
          "name": "stdout",
          "text": [
            "Label: 5\n"
          ]
        },
        {
          "output_type": "display_data",
          "data": {
            "image/png": "[encoded data removed]",
            "text/plain": [
              "<Figure size 432x288 with 1 Axes>"
            ]
          },
          "metadata": {
            "needs_background": "light"
          }
        }
      ]
    },
    {
      "cell_type": "markdown",
      "source": [
        "### Convert images into tensors"
      ],
      "metadata": {
        "id": "8vPvBn-u03qs"
      }
    },
    {
      "cell_type": "code",
      "source": [
        "from torchvision.transforms import ToTensor\n",
        "\n",
        "dataset = MNIST(path,\n",
        "                train=True,\n",
        "                transform=ToTensor())"
      ],
      "metadata": {
        "id": "9f5YyERZneNY"
      },
      "execution_count": 29,
      "outputs": []
    },
    {
      "cell_type": "code",
      "source": [
        "img_tensor, label = dataset[0]\n",
        "print(img_tensor.shape, label)"
      ],
      "metadata": {
        "id": "cDDhxbKgneP2",
        "colab": {
          "base_uri": "https://localhost:8080/"
        },
        "outputId": "b3889346-75f3-461b-c84e-11a75e87402f"
      },
      "execution_count": 30,
      "outputs": [
        {
          "output_type": "stream",
          "name": "stdout",
          "text": [
            "torch.Size([1, 28, 28]) 5\n"
          ]
        }
      ]
    },
    {
      "cell_type": "markdown",
      "source": [
        "## Validation Split"
      ],
      "metadata": {
        "id": "bqRS6IRj2Z78"
      }
    },
    {
      "cell_type": "markdown",
      "source": [
        "### Indices Permutation"
      ],
      "metadata": {
        "id": "tGeYOrZ_46gW"
      }
    },
    {
      "cell_type": "code",
      "source": [
        "import numpy as np\n",
        "np.random.seed(13)\n",
        "\n",
        "def split_indices(n, val_size=0.33):\n",
        "    # Size of validation set\n",
        "    n_val = int(n * val_size)\n",
        "    # Random permutation of indices\n",
        "    idxs = np.random.permutation(n)\n",
        "    # First n_val samples are validation set\n",
        "    return idxs[n_val:], idxs[:n_val]"
      ],
      "metadata": {
        "id": "XeNkjvoAneT1"
      },
      "execution_count": 31,
      "outputs": []
    },
    {
      "cell_type": "code",
      "source": [
        "train_indices, val_indices = split_indices(len(dataset), val_size=0.2)\n",
        "print(len(train_indices), len(val_indices))"
      ],
      "metadata": {
        "colab": {
          "base_uri": "https://localhost:8080/"
        },
        "id": "7W5E12WB2MKC",
        "outputId": "5802776d-4baf-4218-efae-ca5c58f9a654"
      },
      "execution_count": 32,
      "outputs": [
        {
          "output_type": "stream",
          "name": "stdout",
          "text": [
            "48000 12000\n"
          ]
        }
      ]
    },
    {
      "cell_type": "markdown",
      "source": [
        "### Data Sampler & Loader"
      ],
      "metadata": {
        "id": "4WznU6LK40FO"
      }
    },
    {
      "cell_type": "code",
      "source": [
        "from torch.utils.data.sampler import SubsetRandomSampler\n",
        "from torch.utils.data.dataloader import DataLoader\n",
        "\n",
        "\n",
        "batch_size = 100\n",
        "\n",
        "# Training\n",
        "train_sampler = SubsetRandomSampler(train_indices)\n",
        "train_loader = DataLoader(dataset,\n",
        "                          batch_size,\n",
        "                          sampler=train_sampler)\n",
        "\n",
        "# Validation\n",
        "val_sampler = SubsetRandomSampler(val_indices)\n",
        "val_loader = DataLoader(dataset,\n",
        "                        batch_size,\n",
        "                        sampler=val_sampler)"
      ],
      "metadata": {
        "id": "BJJ0w1ux2MM1"
      },
      "execution_count": 33,
      "outputs": []
    },
    {
      "cell_type": "markdown",
      "source": [
        "## Model"
      ],
      "metadata": {
        "id": "Wsh3p-225iwJ"
      }
    },
    {
      "cell_type": "code",
      "source": [
        "from torch import nn\n",
        "\n",
        "input_size = 28*28\n",
        "num_classes = 10"
      ],
      "metadata": {
        "id": "46E7iZth2MO4"
      },
      "execution_count": 34,
      "outputs": []
    },
    {
      "cell_type": "code",
      "source": [
        "class MnistModel(nn.Module):\n",
        "    def __init__(self):\n",
        "        super().__init__()\n",
        "        self.linear = nn.Linear(input_size, num_classes)\n",
        "\n",
        "    def forward(self, xb):\n",
        "        xb = xb.reshape(-1, input_size)\n",
        "        out = self.linear(xb)\n",
        "        return out\n",
        "\n",
        "model = MnistModel()"
      ],
      "metadata": {
        "id": "YXzqyUUk5k1V"
      },
      "execution_count": 35,
      "outputs": []
    },
    {
      "cell_type": "markdown",
      "source": [
        "### Loss, metric, optimizer"
      ],
      "metadata": {
        "id": "RJvmFtQIE5OW"
      }
    },
    {
      "cell_type": "code",
      "source": [
        "import torch.nn.functional as F\n",
        "\n",
        "loss_fn = F.cross_entropy"
      ],
      "metadata": {
        "id": "FbLOU9wo5k3j"
      },
      "execution_count": 36,
      "outputs": []
    },
    {
      "cell_type": "code",
      "source": [
        "from torch.optim import SGD\n",
        "\n",
        "learning_rate = 0.01\n",
        "optimizer = SGD(model.parameters(), lr=learning_rate)"
      ],
      "metadata": {
        "id": "rQFTMcpU5k-m"
      },
      "execution_count": 37,
      "outputs": []
    },
    {
      "cell_type": "markdown",
      "source": [
        "### Loss Batch"
      ],
      "metadata": {
        "id": "to2wXnb8E03T"
      }
    },
    {
      "cell_type": "markdown",
      "source": [
        "**loss_batch:**\n",
        "\n",
        "*   calculates the loss for a batch of data\n",
        "*   perform the GD update step if optimizer is provided\n",
        "*   computes a metric if provided\n",
        "\n"
      ],
      "metadata": {
        "id": "F3Y0B_5yE2ve"
      }
    },
    {
      "cell_type": "code",
      "source": [
        "def loss_batch(model, loss_func, xb, yb, opt=None, metric=None):\n",
        "    # Calculate loss\n",
        "    preds = model(xb)\n",
        "    loss = loss_func(preds, yb)\n",
        "\n",
        "    if opt is not None:\n",
        "        # Compute Gradients\n",
        "        loss.backward()\n",
        "        # Update parameters\n",
        "        opt.step()\n",
        "        # Reset gradients\n",
        "        opt.zero_grad()\n",
        "\n",
        "    metric_res = None\n",
        "    if metric is not None:\n",
        "        metric_res = metric(preds, yb)\n",
        "\n",
        "    return loss.item(), len(xb), metric_res"
      ],
      "metadata": {
        "id": "2FZsvwn05lAo"
      },
      "execution_count": 38,
      "outputs": []
    },
    {
      "cell_type": "markdown",
      "source": [
        "We don't need to compute the gradients so we use *torch.no_grad()*"
      ],
      "metadata": {
        "id": "dRmZOPEtGXL3"
      }
    },
    {
      "cell_type": "code",
      "source": [
        "def evaluate(model, loss_func, val_dl, metric=None):\n",
        "    with torch.no_grad():\n",
        "        results = [loss_batch(model, loss_func, xb, yb, metric=metric)\n",
        "                   for xb, yb in val_dl]\n",
        "        # Separate losses, counts and metrics\n",
        "        losses, counts, metrics = zip(*results)\n",
        "        # Total size\n",
        "        total_size = np.sum(counts)\n",
        "        # Average loss\n",
        "        avg_loss = np.sum(np.multiply(losses, counts)) / total_size\n",
        "\n",
        "        avg_metric = None\n",
        "        if metric is not None:\n",
        "            avg_metric = np.sum(np.multiply(metrics, counts)) / total_size\n",
        "\n",
        "        return avg_loss, total_size, avg_metric"
      ],
      "metadata": {
        "id": "nOA0WGBW5lB3"
      },
      "execution_count": 39,
      "outputs": []
    },
    {
      "cell_type": "markdown",
      "source": [
        "Metric"
      ],
      "metadata": {
        "id": "pPvXM7oKIH0C"
      }
    },
    {
      "cell_type": "code",
      "source": [
        "def accuracy(outputs, labels):\n",
        "    _, preds = torch.max(outputs, dim=1)\n",
        "    return torch.sum(preds == labels).item() / len(preds)"
      ],
      "metadata": {
        "id": "0p20CHLt2MRF"
      },
      "execution_count": 40,
      "outputs": []
    },
    {
      "cell_type": "markdown",
      "source": [
        "Let's see how the model performs on the validation set with the initial parameters"
      ],
      "metadata": {
        "id": "Zo0SZes9In7z"
      }
    },
    {
      "cell_type": "code",
      "source": [
        "val_loss, total_size, val_acc = evaluate(model, loss_fn,\n",
        "                                         val_loader,\n",
        "                                         metric=accuracy)\n",
        "print(f'Loss: {val_loss:.4f}, Accuracy: {val_acc:.4f}')"
      ],
      "metadata": {
        "id": "6WgHnKEtneV5",
        "colab": {
          "base_uri": "https://localhost:8080/"
        },
        "outputId": "3b8a301b-5d61-4cfe-ea53-30456595b713"
      },
      "execution_count": 41,
      "outputs": [
        {
          "output_type": "stream",
          "name": "stdout",
          "text": [
            "Loss: 2.3361, Accuracy: 0.0898\n"
          ]
        }
      ]
    },
    {
      "cell_type": "markdown",
      "source": [
        "### Train"
      ],
      "metadata": {
        "id": "xdSm0O4Nbjjl"
      }
    },
    {
      "cell_type": "code",
      "source": [
        "def fit(epochs, model, loss_func, opt, train_dl, valid_dl, metric=None):\n",
        "    for epoch in range(epochs):\n",
        "        # Training\n",
        "        for xb, yb in train_dl:\n",
        "            loss, _, _ = loss_batch(model, loss_func, xb, yb, opt=opt)\n",
        "\n",
        "        # Evaluation\n",
        "        result = evaluate(model, loss_func, valid_dl, metric)\n",
        "        val_loss, total_size, val_metric = result\n",
        "\n",
        "        # Display progress\n",
        "        progress = f'Epoch {epoch+1}/{epochs}, Loss: {val_loss:.4f}'\n",
        "        if metric is not None:\n",
        "            progress += f', {metric.__name__}: {val_metric:.4f}'\n",
        "\n",
        "        print(progress)"
      ],
      "metadata": {
        "id": "Sk0QpB-_IYHY"
      },
      "execution_count": 42,
      "outputs": []
    },
    {
      "cell_type": "code",
      "source": [
        "# Main\n",
        "model = MnistModel()\n",
        "optimizer = SGD(model.parameters(), lr=0.001)"
      ],
      "metadata": {
        "id": "62Ybq53mIYJ8"
      },
      "execution_count": 43,
      "outputs": []
    },
    {
      "cell_type": "code",
      "source": [
        "fit(10, model, loss_fn, optimizer, train_loader, val_loader, metric=accuracy)"
      ],
      "metadata": {
        "colab": {
          "base_uri": "https://localhost:8080/"
        },
        "id": "zBN6ug3xIYMl",
        "outputId": "bc6a2a59-3b4e-4663-cfc4-1d18a7ef6a59"
      },
      "execution_count": 44,
      "outputs": [
        {
          "output_type": "stream",
          "name": "stdout",
          "text": [
            "Epoch 1/10, Loss: 1.8759, accuracy: 0.6617\n",
            "Epoch 2/10, Loss: 1.5771, accuracy: 0.7475\n",
            "Epoch 3/10, Loss: 1.3678, accuracy: 0.7823\n",
            "Epoch 4/10, Loss: 1.2175, accuracy: 0.7996\n",
            "Epoch 5/10, Loss: 1.1059, accuracy: 0.8113\n",
            "Epoch 6/10, Loss: 1.0203, accuracy: 0.8197\n",
            "Epoch 7/10, Loss: 0.9529, accuracy: 0.8260\n",
            "Epoch 8/10, Loss: 0.8984, accuracy: 0.8297\n",
            "Epoch 9/10, Loss: 0.8534, accuracy: 0.8336\n",
            "Epoch 10/10, Loss: 0.8155, accuracy: 0.8382\n"
          ]
        }
      ]
    },
    {
      "cell_type": "markdown",
      "source": [
        "## Predictions"
      ],
      "metadata": {
        "id": "Csstl6YuXSD4"
      }
    },
    {
      "cell_type": "code",
      "source": [
        "test_dataset = MNIST(path,\n",
        "                     train=False,\n",
        "                     transform=ToTensor())\n",
        "len(test_dataset)"
      ],
      "metadata": {
        "colab": {
          "base_uri": "https://localhost:8080/"
        },
        "id": "1hNIT-DsaY6V",
        "outputId": "956742b6-7cc4-4c82-cbc3-e22190a51ae2"
      },
      "execution_count": 47,
      "outputs": [
        {
          "output_type": "execute_result",
          "data": {
            "text/plain": [
              "10000"
            ]
          },
          "metadata": {},
          "execution_count": 47
        }
      ]
    },
    {
      "cell_type": "markdown",
      "source": [
        "*img.unsqueeze()* simply adds another dimension at the beginning"
      ],
      "metadata": {
        "id": "AbMH1oeZaHfT"
      }
    },
    {
      "cell_type": "code",
      "source": [
        "def predict_image(img, model):\n",
        "    xb = img.unsqueeze(0)\n",
        "    yb = model(xb)\n",
        "    _, preds = torch.max(yb, dim=1)\n",
        "    return preds[0].item()"
      ],
      "metadata": {
        "id": "8pifddgFIYO8"
      },
      "execution_count": 45,
      "outputs": []
    },
    {
      "cell_type": "code",
      "source": [
        "img, label = test_dataset[13]\n",
        "plt.imshow(img[0], cmap='gray')\n",
        "print(f'Label: {label}, Prediction: {predict_image(img, model)}')"
      ],
      "metadata": {
        "colab": {
          "base_uri": "https://localhost:8080/",
          "height": 282
        },
        "id": "vFH7kTZ4IYRj",
        "outputId": "2c4ee2d2-2614-4414-e732-1d4ab67da32d"
      },
      "execution_count": 49,
      "outputs": [
        {
          "output_type": "stream",
          "name": "stdout",
          "text": [
            "Label: 0, Prediction: 0\n"
          ]
        },
        {
          "output_type": "display_data",
          "data": {
            "image/png": "[encoded data removed]",
            "text/plain": [
              "<Figure size 432x288 with 1 Axes>"
            ]
          },
          "metadata": {
            "needs_background": "light"
          }
        }
      ]
    },
    {
      "cell_type": "markdown",
      "source": [
        "### Total score on Test"
      ],
      "metadata": {
        "id": "54rpmXXIa4Ed"
      }
    },
    {
      "cell_type": "code",
      "source": [
        "test_loader = DataLoader(test_dataset,\n",
        "                         batch_size=200)\n",
        "test_loss, _, test_acc = evaluate(model, loss_fn, test_loader,\n",
        "                                  metric=accuracy)\n",
        "print(f'Loss: {test_loss:.4f}, Accuracy: {test_acc:.4f}')"
      ],
      "metadata": {
        "colab": {
          "base_uri": "https://localhost:8080/"
        },
        "id": "rai3FuIEIYS8",
        "outputId": "db870486-ad88-4bc6-912a-6d0061e2c302"
      },
      "execution_count": 50,
      "outputs": [
        {
          "output_type": "stream",
          "name": "stdout",
          "text": [
            "Loss: 0.7891, Accuracy: 0.8483\n"
          ]
        }
      ]
    },
    {
      "cell_type": "markdown",
      "source": [
        "## Save Model"
      ],
      "metadata": {
        "id": "gW7tIWoobn2Y"
      }
    },
    {
      "cell_type": "markdown",
      "source": [
        "We save weights (state) of the model"
      ],
      "metadata": {
        "id": "nsnNpi--rAjz"
      }
    },
    {
      "cell_type": "code",
      "source": [
        "path = '/content/drive/MyDrive/PyTorch Practice/Models/'\n",
        "file_name = 'mnist-logistic.pth'\n",
        "torch.save(model.state_dict(), path + file_name)"
      ],
      "metadata": {
        "id": "EzSJWDDha6A1"
      },
      "execution_count": 51,
      "outputs": []
    },
    {
      "cell_type": "code",
      "source": [
        "model.state_dict()"
      ],
      "metadata": {
        "colab": {
          "base_uri": "https://localhost:8080/"
        },
        "id": "zChnmKW5a6DW",
        "outputId": "605d4a13-3d68-406a-f7a2-ff5fb9c4c4e2"
      },
      "execution_count": 52,
      "outputs": [
        {
          "output_type": "execute_result",
          "data": {
            "text/plain": [
              "OrderedDict([('linear.weight',\n",
              "              tensor([[-0.0099, -0.0035, -0.0309,  ...,  0.0072,  0.0170, -0.0163],\n",
              "                      [-0.0240,  0.0148,  0.0290,  ..., -0.0106,  0.0008, -0.0096],\n",
              "                      [-0.0100, -0.0061, -0.0257,  ..., -0.0100, -0.0013, -0.0173],\n",
              "                      ...,\n",
              "                      [ 0.0143,  0.0207,  0.0334,  ...,  0.0224, -0.0006, -0.0141],\n",
              "                      [-0.0156, -0.0182,  0.0138,  ...,  0.0030, -0.0286,  0.0268],\n",
              "                      [ 0.0187,  0.0071, -0.0146,  ..., -0.0152, -0.0034, -0.0080]])),\n",
              "             ('linear.bias',\n",
              "              tensor([-0.0325,  0.0482, -0.0373, -0.0249,  0.0161,  0.0576,  0.0019,  0.0416,\n",
              "                      -0.0852,  0.0068]))])"
            ]
          },
          "metadata": {},
          "execution_count": 52
        }
      ]
    },
    {
      "cell_type": "markdown",
      "source": [
        "### Load Model"
      ],
      "metadata": {
        "id": "7URnmSGgsld5"
      }
    },
    {
      "cell_type": "code",
      "source": [
        "path = '/content/drive/MyDrive/PyTorch Practice/Models/'\n",
        "file_name = 'mnist-logistic.pth'\n",
        "\n",
        "model2 = MnistModel()\n",
        "model2.load_state_dict(torch.load(path + file_name))\n",
        "model2.state_dict()"
      ],
      "metadata": {
        "colab": {
          "base_uri": "https://localhost:8080/"
        },
        "id": "nm_7d3Wka6E2",
        "outputId": "ae416f74-1f4e-423d-8bcf-1048186c21f8"
      },
      "execution_count": 53,
      "outputs": [
        {
          "output_type": "execute_result",
          "data": {
            "text/plain": [
              "OrderedDict([('linear.weight',\n",
              "              tensor([[-0.0099, -0.0035, -0.0309,  ...,  0.0072,  0.0170, -0.0163],\n",
              "                      [-0.0240,  0.0148,  0.0290,  ..., -0.0106,  0.0008, -0.0096],\n",
              "                      [-0.0100, -0.0061, -0.0257,  ..., -0.0100, -0.0013, -0.0173],\n",
              "                      ...,\n",
              "                      [ 0.0143,  0.0207,  0.0334,  ...,  0.0224, -0.0006, -0.0141],\n",
              "                      [-0.0156, -0.0182,  0.0138,  ...,  0.0030, -0.0286,  0.0268],\n",
              "                      [ 0.0187,  0.0071, -0.0146,  ..., -0.0152, -0.0034, -0.0080]])),\n",
              "             ('linear.bias',\n",
              "              tensor([-0.0325,  0.0482, -0.0373, -0.0249,  0.0161,  0.0576,  0.0019,  0.0416,\n",
              "                      -0.0852,  0.0068]))])"
            ]
          },
          "metadata": {},
          "execution_count": 53
        }
      ]
    },
    {
      "cell_type": "markdown",
      "source": [
        "Sanity check"
      ],
      "metadata": {
        "id": "C3eVqiaItbFE"
      }
    },
    {
      "cell_type": "code",
      "source": [
        "test_loader = DataLoader(test_dataset,\n",
        "                         batch_size=200)\n",
        "test_loss, _, test_acc = evaluate(model2, loss_fn, test_loader,\n",
        "                                  metric=accuracy)\n",
        "print(f'Loss: {test_loss:.4f}, Accuracy: {test_acc:.4f}')"
      ],
      "metadata": {
        "colab": {
          "base_uri": "https://localhost:8080/"
        },
        "id": "r6yfNgy2a6Gm",
        "outputId": "4fe01ca4-3349-4d75-afea-1221addba028"
      },
      "execution_count": 54,
      "outputs": [
        {
          "output_type": "stream",
          "name": "stdout",
          "text": [
            "Loss: 0.7891, Accuracy: 0.8483\n"
          ]
        }
      ]
    },
    {
      "cell_type": "code",
      "source": [
        ""
      ],
      "metadata": {
        "id": "qY98mfPIIYVL"
      },
      "execution_count": 44,
      "outputs": []
    },
    {
      "cell_type": "code",
      "source": [
        ""
      ],
      "metadata": {
        "id": "wxGq8f3ttg1k"
      },
      "execution_count": null,
      "outputs": []
    },
    {
      "cell_type": "code",
      "source": [
        ""
      ],
      "metadata": {
        "id": "KvdOzyxvIYXi"
      },
      "execution_count": 44,
      "outputs": []
    }
  ]
}